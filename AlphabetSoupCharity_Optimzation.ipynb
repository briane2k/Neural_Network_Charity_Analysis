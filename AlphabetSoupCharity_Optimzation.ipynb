{
 "cells": [
  {
   "cell_type": "code",
   "execution_count": 1,
   "id": "23489160",
   "metadata": {},
   "outputs": [],
   "source": [
    "#\n",
    "# Colate all previous work into a single Batch with minimal output\n",
    "#   executing work for Deliverable 1\n",
    "#\n",
    "#     Preprocessing Data for a Neural Network Model\n",
    "#\n",
    "\n",
    "\n",
    "\n",
    "# Import our dependencies\n",
    "from sklearn.model_selection import train_test_split\n",
    "from sklearn.preprocessing import StandardScaler,OneHotEncoder\n",
    "import pandas as pd\n",
    "import tensorflow as tf\n",
    "\n"
   ]
  },
  {
   "cell_type": "code",
   "execution_count": 2,
   "id": "3dbe1575",
   "metadata": {},
   "outputs": [
    {
     "data": {
      "text/plain": [
       "['APPLICATION_TYPE',\n",
       " 'AFFILIATION',\n",
       " 'CLASSIFICATION',\n",
       " 'USE_CASE',\n",
       " 'ORGANIZATION',\n",
       " 'INCOME_AMT',\n",
       " 'SPECIAL_CONSIDERATIONS']"
      ]
     },
     "execution_count": 2,
     "metadata": {},
     "output_type": "execute_result"
    }
   ],
   "source": [
    "# 1. Import and read the charity_data.csv.\n",
    "application_df = pd.read_csv(\"Resources/charity_data.csv\")\n",
    "#application_df.head()\n",
    "\n",
    "\n",
    "\n",
    "# 2. Drop the non-beneficial ID columns, 'EIN' and 'NAME'.\n",
    "application_df.drop([\"EIN\",\"NAME\"], axis=1, inplace=True)\n",
    "\n",
    "\n",
    "\n",
    "# 4a. Look at APPLICATION_TYPE value counts for binning\n",
    "application_counts = application_df.APPLICATION_TYPE.value_counts()\n",
    "#application_counts\n",
    "\n",
    "\n",
    "\n",
    "# 6a. Determine which values to replace if counts are less than ...? 250?\n",
    "replace_application = list(application_counts[application_counts < 250].index)\n",
    "\n",
    "# Replace in dataframe\n",
    "for app in replace_application:\n",
    "    application_df.APPLICATION_TYPE = application_df.APPLICATION_TYPE.replace(app,\"Other\")\n",
    "    \n",
    "# Check to make sure binning was successful\n",
    "#application_df.APPLICATION_TYPE.value_counts()\n",
    "\n",
    "# 4b. Look at CLASSIFICATION value counts for binning\n",
    "classification_counts = application_df.CLASSIFICATION.value_counts()\n",
    "#classification_counts\n",
    "\n",
    "\n",
    "\n",
    "# 6b. Determine which values to replace if counts are less than ..?\n",
    "replace_class = list(classification_counts[classification_counts<1800].index)\n",
    "\n",
    "# Replace in dataframe\n",
    "for cls in replace_class:\n",
    "    application_df.CLASSIFICATION = application_df.CLASSIFICATION.replace(cls,\"Other\")\n",
    "    \n",
    "# Check to make sure binning was successful\n",
    "#application_df.CLASSIFICATION.value_counts()\n",
    "\n",
    "\n",
    "\n",
    "# 7. Generate our categorical variable lists\n",
    "application_cat = application_df.dtypes[application_df.dtypes == \"object\"].index.tolist()\n",
    "application_cat"
   ]
  },
  {
   "cell_type": "code",
   "execution_count": 4,
   "id": "88388227",
   "metadata": {},
   "outputs": [],
   "source": [
    "# 8. Create a OneHotEncoder instance\n",
    "enc = OneHotEncoder(sparse=False)\n",
    "\n",
    "# Fit and transform the OneHotEncoder using the categorical variable list\n",
    "encode_df = pd.DataFrame(enc.fit_transform(application_df[application_cat]))\n",
    "\n",
    "# Add the encoded variable names to the dataframe\n",
    "encode_df.columns = enc.get_feature_names_out(application_cat)\n",
    "#encode_df.head()\n"
   ]
  },
  {
   "cell_type": "code",
   "execution_count": 5,
   "id": "6de6276a",
   "metadata": {},
   "outputs": [
    {
     "name": "stderr",
     "output_type": "stream",
     "text": [
      "C:\\ProgramData\\Anaconda3\\envs\\mlenv\\lib\\site-packages\\ipykernel_launcher.py:3: FutureWarning: In a future version of pandas all arguments of DataFrame.drop except for the argument 'labels' will be keyword-only\n",
      "  This is separate from the ipykernel package so we can avoid doing imports until\n",
      "C:\\ProgramData\\Anaconda3\\envs\\mlenv\\lib\\site-packages\\ipykernel_launcher.py:10: FutureWarning: In a future version of pandas all arguments of DataFrame.drop except for the argument 'labels' will be keyword-only\n",
      "  # Remove the CWD from sys.path while we load stuff.\n"
     ]
    }
   ],
   "source": [
    "# 9. Merge one-hot encoded features and drop the originals\n",
    "application_df = application_df.merge(encode_df, left_index=True, right_index=True)\n",
    "application_df = application_df.drop(application_cat,1)\n",
    "#application_df.head()\n",
    "\n",
    "\n",
    "\n",
    "# 10. Split our preprocessed data into our features and target arrays\n",
    "y = application_df[\"IS_SUCCESSFUL\"].values\n",
    "X = application_df.drop(\"IS_SUCCESSFUL\",1).values\n",
    "\n",
    "# 11. Split the preprocessed data into a training and testing dataset\n",
    "X_train, X_test, y_train, y_test = train_test_split(X, y, random_state=78)\n",
    "\n",
    "\n",
    "\n",
    "# 12. \n",
    "# Create a StandardScaler instances\n",
    "scaler = StandardScaler()\n",
    "\n",
    "# Fit the StandardScaler\n",
    "X_scaler = scaler.fit(X_train)\n",
    "\n",
    "# Scale the data\n",
    "X_train_scaled = X_scaler.transform(X_train)\n",
    "X_test_scaled = X_scaler.transform(X_test)\n",
    "\n",
    "\n"
   ]
  },
  {
   "cell_type": "code",
   "execution_count": 6,
   "id": "7da7233e",
   "metadata": {},
   "outputs": [
    {
     "name": "stdout",
     "output_type": "stream",
     "text": [
      "For Deliverable 3-attempt 1. I have changed the second hidden layer from relu to tanh\n"
     ]
    }
   ],
   "source": [
    "# Deliverable 2 Work\n",
    "#     Compile, Train, and Evaluate the Model\n",
    "#\n",
    "# 2. Define the model - deep neural net, i.e., the number of input features and hidden nodes for each layer.\n",
    "#        9 columns(ORIG)*3 27\n",
    "number_input_features = len(X_train[0])   #encoded columns 43  *  2 = 86\n",
    "hidden_nodes_layer1 = 80\n",
    "hidden_nodes_layer2 = 30\n",
    "\n",
    "nn = tf.keras.models.Sequential()\n",
    "\n",
    "# 3. First hidden layer\n",
    "nn.add(\n",
    "    tf.keras.layers.Dense(units=hidden_nodes_layer1, input_dim=number_input_features, activation=\"relu\")\n",
    ")\n",
    "\n",
    "# 4. Second hidden layer\n",
    "nn.add(\n",
    "\n",
    "# For Deliverable 3 I am changing this hidden layer from relu to tanh\n",
    "\n",
    "    tf.keras.layers.Dense(units=hidden_nodes_layer2, activation=\"tanh\")\n",
    ")\n",
    "\n",
    "# 5. Output layer\n",
    "nn.add(\n",
    "    tf.keras.layers.Dense(units=1, activation=\"sigmoid\")\n",
    ")\n",
    "\n",
    "print(\"For Deliverable 3-attempt 1. I have changed the second hidden layer from relu to tanh\")\n",
    "\n"
   ]
  },
  {
   "cell_type": "code",
   "execution_count": 7,
   "id": "ff47c98e",
   "metadata": {},
   "outputs": [
    {
     "name": "stdout",
     "output_type": "stream",
     "text": [
      "Model: \"sequential\"\n",
      "_________________________________________________________________\n",
      " Layer (type)                Output Shape              Param #   \n",
      "=================================================================\n",
      " dense (Dense)               (None, 80)                3520      \n",
      "                                                                 \n",
      " dense_1 (Dense)             (None, 30)                2430      \n",
      "                                                                 \n",
      " dense_2 (Dense)             (None, 1)                 31        \n",
      "                                                                 \n",
      "=================================================================\n",
      "Total params: 5,981\n",
      "Trainable params: 5,981\n",
      "Non-trainable params: 0\n",
      "_________________________________________________________________\n"
     ]
    }
   ],
   "source": [
    "\n",
    "# 6. Check the structure of the model\n",
    "nn.summary()\n",
    "\n"
   ]
  },
  {
   "cell_type": "code",
   "execution_count": 8,
   "id": "f8126ff8",
   "metadata": {
    "collapsed": true
   },
   "outputs": [
    {
     "name": "stdout",
     "output_type": "stream",
     "text": [
      "WARNING:tensorflow:`period` argument is deprecated. Please use `save_freq` to specify the frequency in number of batches seen.\n",
      "Epoch 1/100\n",
      "804/804 [==============================] - 1s 876us/step - loss: 0.6951 - accuracy: 0.5277\n",
      "Epoch 2/100\n",
      "804/804 [==============================] - 1s 862us/step - loss: 0.6918 - accuracy: 0.5293\n",
      "Epoch 3/100\n",
      "804/804 [==============================] - 1s 878us/step - loss: 0.6918 - accuracy: 0.5281\n",
      "Epoch 4/100\n",
      "804/804 [==============================] - 1s 901us/step - loss: 0.6919 - accuracy: 0.5310\n",
      "Epoch 5/100\n",
      "804/804 [==============================] - ETA: 0s - loss: 0.6917 - accuracy: 0.5300\n",
      "Epoch 5: saving model to checkpoints\\D3-Att1_weights.05.hdf5\n",
      "804/804 [==============================] - 1s 908us/step - loss: 0.6917 - accuracy: 0.5300\n",
      "Epoch 6/100\n",
      "804/804 [==============================] - 1s 897us/step - loss: 0.6920 - accuracy: 0.5312\n",
      "Epoch 7/100\n",
      "804/804 [==============================] - 1s 870us/step - loss: 0.6916 - accuracy: 0.5293\n",
      "Epoch 8/100\n",
      "804/804 [==============================] - 1s 869us/step - loss: 0.6918 - accuracy: 0.5301\n",
      "Epoch 9/100\n",
      "804/804 [==============================] - 1s 875us/step - loss: 0.6917 - accuracy: 0.5276\n",
      "Epoch 10/100\n",
      "753/804 [===========================>..] - ETA: 0s - loss: 0.6918 - accuracy: 0.5270\n",
      "Epoch 10: saving model to checkpoints\\D3-Att1_weights.10.hdf5\n",
      "804/804 [==============================] - 1s 897us/step - loss: 0.6918 - accuracy: 0.5269\n",
      "Epoch 11/100\n",
      "804/804 [==============================] - 1s 927us/step - loss: 0.6918 - accuracy: 0.5310\n",
      "Epoch 12/100\n",
      "804/804 [==============================] - 1s 952us/step - loss: 0.6918 - accuracy: 0.5280\n",
      "Epoch 13/100\n",
      "804/804 [==============================] - 1s 875us/step - loss: 0.6919 - accuracy: 0.5294\n",
      "Epoch 14/100\n",
      "804/804 [==============================] - 1s 863us/step - loss: 0.6918 - accuracy: 0.5297\n",
      "Epoch 15/100\n",
      "757/804 [===========================>..] - ETA: 0s - loss: 0.6920 - accuracy: 0.5297\n",
      "Epoch 15: saving model to checkpoints\\D3-Att1_weights.15.hdf5\n",
      "804/804 [==============================] - 1s 888us/step - loss: 0.6920 - accuracy: 0.5287\n",
      "Epoch 16/100\n",
      "804/804 [==============================] - 1s 915us/step - loss: 0.6918 - accuracy: 0.5287\n",
      "Epoch 17/100\n",
      "804/804 [==============================] - 1s 873us/step - loss: 0.6917 - accuracy: 0.5308\n",
      "Epoch 18/100\n",
      "804/804 [==============================] - 1s 858us/step - loss: 0.6916 - accuracy: 0.5305\n",
      "Epoch 19/100\n",
      "804/804 [==============================] - 1s 858us/step - loss: 0.6918 - accuracy: 0.5293\n",
      "Epoch 20/100\n",
      "767/804 [===========================>..] - ETA: 0s - loss: 0.6919 - accuracy: 0.5284\n",
      "Epoch 20: saving model to checkpoints\\D3-Att1_weights.20.hdf5\n",
      "804/804 [==============================] - 1s 877us/step - loss: 0.6919 - accuracy: 0.5282\n",
      "Epoch 21/100\n",
      "804/804 [==============================] - 1s 879us/step - loss: 0.6919 - accuracy: 0.5304\n",
      "Epoch 22/100\n",
      "804/804 [==============================] - 1s 883us/step - loss: 0.6917 - accuracy: 0.5280\n",
      "Epoch 23/100\n",
      "804/804 [==============================] - 1s 864us/step - loss: 0.6919 - accuracy: 0.5285\n",
      "Epoch 24/100\n",
      "804/804 [==============================] - 1s 889us/step - loss: 0.6917 - accuracy: 0.5321\n",
      "Epoch 25/100\n",
      "757/804 [===========================>..] - ETA: 0s - loss: 0.6917 - accuracy: 0.5289\n",
      "Epoch 25: saving model to checkpoints\\D3-Att1_weights.25.hdf5\n",
      "804/804 [==============================] - 1s 886us/step - loss: 0.6918 - accuracy: 0.5290\n",
      "Epoch 26/100\n",
      "804/804 [==============================] - 1s 1ms/step - loss: 0.6917 - accuracy: 0.5304\n",
      "Epoch 27/100\n",
      "804/804 [==============================] - 1s 959us/step - loss: 0.6916 - accuracy: 0.5301\n",
      "Epoch 28/100\n",
      "804/804 [==============================] - 1s 919us/step - loss: 0.6920 - accuracy: 0.5311\n",
      "Epoch 29/100\n",
      "804/804 [==============================] - 1s 939us/step - loss: 0.6920 - accuracy: 0.5283\n",
      "Epoch 30/100\n",
      "755/804 [===========================>..] - ETA: 0s - loss: 0.6923 - accuracy: 0.5303\n",
      "Epoch 30: saving model to checkpoints\\D3-Att1_weights.30.hdf5\n",
      "804/804 [==============================] - 1s 956us/step - loss: 0.6922 - accuracy: 0.5306\n",
      "Epoch 31/100\n",
      "804/804 [==============================] - 1s 939us/step - loss: 0.6920 - accuracy: 0.5281\n",
      "Epoch 32/100\n",
      "804/804 [==============================] - 1s 985us/step - loss: 0.6914 - accuracy: 0.5314\n",
      "Epoch 33/100\n",
      "804/804 [==============================] - 1s 1ms/step - loss: 0.6918 - accuracy: 0.5287\n",
      "Epoch 34/100\n",
      "804/804 [==============================] - 1s 931us/step - loss: 0.6919 - accuracy: 0.5300\n",
      "Epoch 35/100\n",
      "777/804 [===========================>..] - ETA: 0s - loss: 0.6916 - accuracy: 0.5298\n",
      "Epoch 35: saving model to checkpoints\\D3-Att1_weights.35.hdf5\n",
      "804/804 [==============================] - 1s 1ms/step - loss: 0.6916 - accuracy: 0.5305\n",
      "Epoch 36/100\n",
      "804/804 [==============================] - 1s 951us/step - loss: 0.6920 - accuracy: 0.5291\n",
      "Epoch 37/100\n",
      "804/804 [==============================] - 1s 937us/step - loss: 0.6919 - accuracy: 0.5286\n",
      "Epoch 38/100\n",
      "804/804 [==============================] - 1s 1ms/step - loss: 0.6917 - accuracy: 0.5275\n",
      "Epoch 39/100\n",
      "804/804 [==============================] - 1s 987us/step - loss: 0.6918 - accuracy: 0.5304\n",
      "Epoch 40/100\n",
      "781/804 [============================>.] - ETA: 0s - loss: 0.6916 - accuracy: 0.5303\n",
      "Epoch 40: saving model to checkpoints\\D3-Att1_weights.40.hdf5\n",
      "804/804 [==============================] - 1s 924us/step - loss: 0.6916 - accuracy: 0.5304\n",
      "Epoch 41/100\n",
      "804/804 [==============================] - 1s 901us/step - loss: 0.6918 - accuracy: 0.5297\n",
      "Epoch 42/100\n",
      "804/804 [==============================] - 1s 867us/step - loss: 0.6918 - accuracy: 0.5310\n",
      "Epoch 43/100\n",
      "804/804 [==============================] - 1s 901us/step - loss: 0.6916 - accuracy: 0.5321\n",
      "Epoch 44/100\n",
      "804/804 [==============================] - 1s 832us/step - loss: 0.6919 - accuracy: 0.5294\n",
      "Epoch 45/100\n",
      "781/804 [============================>.] - ETA: 0s - loss: 0.6918 - accuracy: 0.5284\n",
      "Epoch 45: saving model to checkpoints\\D3-Att1_weights.45.hdf5\n",
      "804/804 [==============================] - 1s 859us/step - loss: 0.6916 - accuracy: 0.5294\n",
      "Epoch 46/100\n",
      "804/804 [==============================] - 1s 877us/step - loss: 0.6917 - accuracy: 0.5314\n",
      "Epoch 47/100\n",
      "804/804 [==============================] - 1s 912us/step - loss: 0.6919 - accuracy: 0.5276\n",
      "Epoch 48/100\n",
      "804/804 [==============================] - 1s 871us/step - loss: 0.6917 - accuracy: 0.5311\n",
      "Epoch 49/100\n",
      "804/804 [==============================] - 1s 852us/step - loss: 0.6916 - accuracy: 0.5287\n",
      "Epoch 50/100\n",
      "772/804 [===========================>..] - ETA: 0s - loss: 0.6919 - accuracy: 0.5288\n",
      "Epoch 50: saving model to checkpoints\\D3-Att1_weights.50.hdf5\n",
      "804/804 [==============================] - 1s 873us/step - loss: 0.6919 - accuracy: 0.5287\n",
      "Epoch 51/100\n",
      "804/804 [==============================] - 1s 874us/step - loss: 0.6918 - accuracy: 0.5318\n",
      "Epoch 52/100\n",
      "804/804 [==============================] - 1s 876us/step - loss: 0.6917 - accuracy: 0.5304\n",
      "Epoch 53/100\n",
      "804/804 [==============================] - 1s 849us/step - loss: 0.6916 - accuracy: 0.5300\n",
      "Epoch 54/100\n",
      "804/804 [==============================] - 1s 841us/step - loss: 0.6920 - accuracy: 0.5304\n",
      "Epoch 55/100\n",
      "771/804 [===========================>..] - ETA: 0s - loss: 0.6920 - accuracy: 0.5293\n",
      "Epoch 55: saving model to checkpoints\\D3-Att1_weights.55.hdf5\n",
      "804/804 [==============================] - 1s 1ms/step - loss: 0.6920 - accuracy: 0.5296\n",
      "Epoch 56/100\n",
      "804/804 [==============================] - 1s 881us/step - loss: 0.6918 - accuracy: 0.5321\n",
      "Epoch 57/100\n",
      "804/804 [==============================] - 1s 857us/step - loss: 0.6915 - accuracy: 0.5312\n",
      "Epoch 58/100\n",
      "804/804 [==============================] - 1s 852us/step - loss: 0.6914 - accuracy: 0.5306\n",
      "Epoch 59/100\n",
      "804/804 [==============================] - 1s 850us/step - loss: 0.6917 - accuracy: 0.5321\n",
      "Epoch 60/100\n",
      "783/804 [============================>.] - ETA: 0s - loss: 0.6917 - accuracy: 0.5314\n",
      "Epoch 60: saving model to checkpoints\\D3-Att1_weights.60.hdf5\n",
      "804/804 [==============================] - 1s 858us/step - loss: 0.6918 - accuracy: 0.5305\n",
      "Epoch 61/100\n"
     ]
    },
    {
     "name": "stdout",
     "output_type": "stream",
     "text": [
      "804/804 [==============================] - 1s 855us/step - loss: 0.6917 - accuracy: 0.5306\n",
      "Epoch 62/100\n",
      "804/804 [==============================] - 1s 875us/step - loss: 0.6918 - accuracy: 0.5315\n",
      "Epoch 63/100\n",
      "804/804 [==============================] - 1s 889us/step - loss: 0.6919 - accuracy: 0.5299\n",
      "Epoch 64/100\n",
      "804/804 [==============================] - 1s 843us/step - loss: 0.6916 - accuracy: 0.5259\n",
      "Epoch 65/100\n",
      "748/804 [==========================>...] - ETA: 0s - loss: 0.6916 - accuracy: 0.5308\n",
      "Epoch 65: saving model to checkpoints\\D3-Att1_weights.65.hdf5\n",
      "804/804 [==============================] - 1s 828us/step - loss: 0.6917 - accuracy: 0.5304\n",
      "Epoch 66/100\n",
      "804/804 [==============================] - 1s 938us/step - loss: 0.6917 - accuracy: 0.5278\n",
      "Epoch 67/100\n",
      "804/804 [==============================] - 1s 849us/step - loss: 0.6919 - accuracy: 0.5272\n",
      "Epoch 68/100\n",
      "804/804 [==============================] - 1s 922us/step - loss: 0.6915 - accuracy: 0.5298\n",
      "Epoch 69/100\n",
      "804/804 [==============================] - 1s 877us/step - loss: 0.6918 - accuracy: 0.5304\n",
      "Epoch 70/100\n",
      "764/804 [===========================>..] - ETA: 0s - loss: 0.6919 - accuracy: 0.5276\n",
      "Epoch 70: saving model to checkpoints\\D3-Att1_weights.70.hdf5\n",
      "804/804 [==============================] - 1s 881us/step - loss: 0.6917 - accuracy: 0.5292\n",
      "Epoch 71/100\n",
      "804/804 [==============================] - 1s 872us/step - loss: 0.6918 - accuracy: 0.5294\n",
      "Epoch 72/100\n",
      "804/804 [==============================] - 1s 893us/step - loss: 0.6917 - accuracy: 0.5321\n",
      "Epoch 73/100\n",
      "804/804 [==============================] - 1s 902us/step - loss: 0.6919 - accuracy: 0.5293\n",
      "Epoch 74/100\n",
      "804/804 [==============================] - 1s 857us/step - loss: 0.6920 - accuracy: 0.5273\n",
      "Epoch 75/100\n",
      "769/804 [===========================>..] - ETA: 0s - loss: 0.6918 - accuracy: 0.5324\n",
      "Epoch 75: saving model to checkpoints\\D3-Att1_weights.75.hdf5\n",
      "804/804 [==============================] - 1s 871us/step - loss: 0.6919 - accuracy: 0.5312\n",
      "Epoch 76/100\n",
      "804/804 [==============================] - 1s 881us/step - loss: 0.6917 - accuracy: 0.5311\n",
      "Epoch 77/100\n",
      "804/804 [==============================] - 1s 922us/step - loss: 0.6918 - accuracy: 0.5288\n",
      "Epoch 78/100\n",
      "804/804 [==============================] - 1s 987us/step - loss: 0.6917 - accuracy: 0.5320\n",
      "Epoch 79/100\n",
      "804/804 [==============================] - 1s 830us/step - loss: 0.6915 - accuracy: 0.5295\n",
      "Epoch 80/100\n",
      "758/804 [===========================>..] - ETA: 0s - loss: 0.6920 - accuracy: 0.5298\n",
      "Epoch 80: saving model to checkpoints\\D3-Att1_weights.80.hdf5\n",
      "804/804 [==============================] - 1s 891us/step - loss: 0.6919 - accuracy: 0.5304\n",
      "Epoch 81/100\n",
      "804/804 [==============================] - 1s 883us/step - loss: 0.6915 - accuracy: 0.5295\n",
      "Epoch 82/100\n",
      "804/804 [==============================] - 1s 867us/step - loss: 0.6920 - accuracy: 0.5307\n",
      "Epoch 83/100\n",
      "804/804 [==============================] - 1s 843us/step - loss: 0.6915 - accuracy: 0.5292\n",
      "Epoch 84/100\n",
      "804/804 [==============================] - 1s 906us/step - loss: 0.6917 - accuracy: 0.5317\n",
      "Epoch 85/100\n",
      "786/804 [============================>.] - ETA: 0s - loss: 0.6917 - accuracy: 0.5317\n",
      "Epoch 85: saving model to checkpoints\\D3-Att1_weights.85.hdf5\n",
      "804/804 [==============================] - 1s 923us/step - loss: 0.6917 - accuracy: 0.5308\n",
      "Epoch 86/100\n",
      "804/804 [==============================] - 1s 868us/step - loss: 0.6917 - accuracy: 0.5300\n",
      "Epoch 87/100\n",
      "804/804 [==============================] - 1s 878us/step - loss: 0.6917 - accuracy: 0.5280\n",
      "Epoch 88/100\n",
      "804/804 [==============================] - 1s 886us/step - loss: 0.6919 - accuracy: 0.5294\n",
      "Epoch 89/100\n",
      "804/804 [==============================] - 1s 895us/step - loss: 0.6917 - accuracy: 0.5296\n",
      "Epoch 90/100\n",
      "793/804 [============================>.] - ETA: 0s - loss: 0.6916 - accuracy: 0.5272\n",
      "Epoch 90: saving model to checkpoints\\D3-Att1_weights.90.hdf5\n",
      "804/804 [==============================] - 1s 914us/step - loss: 0.6915 - accuracy: 0.5279\n",
      "Epoch 91/100\n",
      "804/804 [==============================] - 1s 875us/step - loss: 0.6917 - accuracy: 0.5308\n",
      "Epoch 92/100\n",
      "804/804 [==============================] - 1s 892us/step - loss: 0.6917 - accuracy: 0.5317\n",
      "Epoch 93/100\n",
      "804/804 [==============================] - 1s 858us/step - loss: 0.6920 - accuracy: 0.5294\n",
      "Epoch 94/100\n",
      "804/804 [==============================] - 1s 890us/step - loss: 0.6916 - accuracy: 0.5295\n",
      "Epoch 95/100\n",
      "754/804 [===========================>..] - ETA: 0s - loss: 0.6919 - accuracy: 0.5303\n",
      "Epoch 95: saving model to checkpoints\\D3-Att1_weights.95.hdf5\n",
      "804/804 [==============================] - 1s 891us/step - loss: 0.6919 - accuracy: 0.5302\n",
      "Epoch 96/100\n",
      "804/804 [==============================] - 1s 895us/step - loss: 0.6915 - accuracy: 0.5321\n",
      "Epoch 97/100\n",
      "804/804 [==============================] - 1s 910us/step - loss: 0.6919 - accuracy: 0.5293\n",
      "Epoch 98/100\n",
      "804/804 [==============================] - 1s 869us/step - loss: 0.6918 - accuracy: 0.5314\n",
      "Epoch 99/100\n",
      "804/804 [==============================] - 1s 863us/step - loss: 0.6918 - accuracy: 0.5321\n",
      "Epoch 100/100\n",
      "765/804 [===========================>..] - ETA: 0s - loss: 0.6917 - accuracy: 0.5286\n",
      "Epoch 100: saving model to checkpoints\\D3-Att1_weights.100.hdf5\n",
      "804/804 [==============================] - 1s 1ms/step - loss: 0.6918 - accuracy: 0.5287\n"
     ]
    }
   ],
   "source": [
    "# Import checkpoint dependencies\n",
    "import os\n",
    "from tensorflow.keras.callbacks import ModelCheckpoint\n",
    "\n",
    "# Define the checkpoint path and filenames\n",
    "os.makedirs(\"checkpoints/\",exist_ok=True)\n",
    "checkpoint_path = \"checkpoints/D3-Att1_weights.{epoch:02d}.hdf5\"\n",
    "\n",
    "# 7a. Compile the model\n",
    "nn.compile(loss=\"binary_crossentropy\", optimizer=\"adam\", metrics=[\"accuracy\"])\n",
    "\n",
    "# 8.\n",
    "# Create a callback that saves the model's weights every epoch\n",
    "cp_callback = ModelCheckpoint(\n",
    "    filepath=checkpoint_path,\n",
    "    verbose=1,\n",
    "    save_weights_only=False,\n",
    "    save_freq='epoch',\n",
    "    period=5  #set to 5 instead of default of 1\n",
    ")\n",
    "\n",
    "# 7b. Train the model\n",
    "fit_model = nn.fit(X_train,y_train,epochs=100,callbacks=[cp_callback])"
   ]
  },
  {
   "cell_type": "code",
   "execution_count": 9,
   "id": "674dfd22",
   "metadata": {},
   "outputs": [
    {
     "data": {
      "text/plain": [
       "<AxesSubplot:>"
      ]
     },
     "execution_count": 9,
     "metadata": {},
     "output_type": "execute_result"
    },
    {
     "data": {
      "image/png": "[encoded data removed]",
      "text/plain": [
       "<Figure size 432x288 with 1 Axes>"
      ]
     },
     "metadata": {
      "needs_background": "light"
     },
     "output_type": "display_data"
    }
   ],
   "source": [
    "#\n",
    "# Extra info, I like visualizations\n",
    "#\n",
    "# Create a DataFrame containing training history\n",
    "history_df = pd.DataFrame(fit_model.history, index=range(1,len(fit_model.history[\"loss\"])+1))\n",
    "\n",
    "# Plot the loss\n",
    "history_df.plot(y=\"loss\")"
   ]
  },
  {
   "cell_type": "code",
   "execution_count": 10,
   "id": "672e7252",
   "metadata": {},
   "outputs": [
    {
     "data": {
      "text/plain": [
       "<AxesSubplot:>"
      ]
     },
     "execution_count": 10,
     "metadata": {},
     "output_type": "execute_result"
    },
    {
     "data": {
      "image/png": "[encoded data removed]",
      "text/plain": [
       "<Figure size 432x288 with 1 Axes>"
      ]
     },
     "metadata": {
      "needs_background": "light"
     },
     "output_type": "display_data"
    }
   ],
   "source": [
    "#\n",
    "# Extra info, I like visualizations\n",
    "#\n",
    "# Plot the accuracy\n",
    "history_df.plot(y=\"accuracy\")"
   ]
  },
  {
   "cell_type": "code",
   "execution_count": 11,
   "id": "8ef53825",
   "metadata": {},
   "outputs": [
    {
     "name": "stdout",
     "output_type": "stream",
     "text": [
      "268/268 - 0s - loss: 0.7291 - accuracy: 0.4779 - 261ms/epoch - 972us/step\n",
      "Loss: 0.7290642261505127, Accuracy: 0.4779008626937866\n"
     ]
    }
   ],
   "source": [
    "# 9. Evaluate the model using the test data\n",
    "model_loss, model_accuracy = nn.evaluate(X_test_scaled,y_test,verbose=2)\n",
    "print(f\"Loss: {model_loss}, Accuracy: {model_accuracy}\")"
   ]
  },
  {
   "cell_type": "code",
   "execution_count": 12,
   "id": "ed9be04a",
   "metadata": {},
   "outputs": [],
   "source": [
    "# 10. Export our model to HDF5 file\n",
    "nn.save(\"D3-Att1_trained_attrition.h5\")"
   ]
  },
  {
   "cell_type": "code",
   "execution_count": null,
   "id": "b6a63469",
   "metadata": {},
   "outputs": [],
   "source": []
  },
  {
   "cell_type": "code",
   "execution_count": null,
   "id": "6debdaa4",
   "metadata": {},
   "outputs": [],
   "source": []
  },
  {
   "cell_type": "code",
   "execution_count": null,
   "id": "2c6a9e72",
   "metadata": {},
   "outputs": [],
   "source": []
  },
  {
   "cell_type": "code",
   "execution_count": 15,
   "id": "89a18981",
   "metadata": {},
   "outputs": [
    {
     "data": {
      "text/plain": [
       "N    34272\n",
       "Y       27\n",
       "Name: SPECIAL_CONSIDERATIONS, dtype: int64"
      ]
     },
     "execution_count": 15,
     "metadata": {},
     "output_type": "execute_result"
    }
   ],
   "source": [
    "# DELIVERABLE 3 ATTEMPT 2\n",
    "\n",
    "# 1. Import and read the charity_data.csv.\n",
    "application_df = pd.read_csv(\"Resources/charity_data.csv\")\n",
    "#application_df.head()\n",
    "\n",
    "\n",
    "\n",
    "# for a second attempt we are going to drop the column\n",
    "#     SPECIAL_CONSIDERATIONS\n",
    "\n",
    "\n",
    "\n",
    "# 2. Drop the non-beneficial ID columns, 'EIN' and 'NAME'.\n",
    "application_df.drop([\"EIN\",\"NAME\"], axis=1, inplace=True)\n",
    "\n",
    "\n",
    "# DELIVERABLE 3 ATTEMPT 2 - DROP A COLUMN / Noisy variables are removed\n",
    "# I choose SPECIAL_CONSIDERATIONS, they are uncodified decision data, so they are hard to use.\n",
    "\n",
    "\n",
    "application_df.SPECIAL_CONSIDERATIONS.value_counts()"
   ]
  },
  {
   "cell_type": "code",
   "execution_count": 16,
   "id": "9827f4a4",
   "metadata": {},
   "outputs": [
    {
     "data": {
      "text/plain": [
       "['APPLICATION_TYPE',\n",
       " 'AFFILIATION',\n",
       " 'CLASSIFICATION',\n",
       " 'USE_CASE',\n",
       " 'ORGANIZATION',\n",
       " 'INCOME_AMT']"
      ]
     },
     "execution_count": 16,
     "metadata": {},
     "output_type": "execute_result"
    }
   ],
   "source": [
    "application_df.drop([\"SPECIAL_CONSIDERATIONS\"], axis=1, inplace=True)\n",
    "\n",
    "\n",
    "\n",
    "# 4a. Look at APPLICATION_TYPE value counts for binning\n",
    "application_counts = application_df.APPLICATION_TYPE.value_counts()\n",
    "#application_counts\n",
    "\n",
    "\n",
    "\n",
    "# 6a. Determine which values to replace if counts are less than ...? 250?\n",
    "replace_application = list(application_counts[application_counts < 250].index)\n",
    "\n",
    "# Replace in dataframe\n",
    "for app in replace_application:\n",
    "    application_df.APPLICATION_TYPE = application_df.APPLICATION_TYPE.replace(app,\"Other\")\n",
    "    \n",
    "# Check to make sure binning was successful\n",
    "#application_df.APPLICATION_TYPE.value_counts()\n",
    "\n",
    "# 4b. Look at CLASSIFICATION value counts for binning\n",
    "classification_counts = application_df.CLASSIFICATION.value_counts()\n",
    "#classification_counts\n",
    "\n",
    "\n",
    "\n",
    "# 6b. Determine which values to replace if counts are less than ..?\n",
    "replace_class = list(classification_counts[classification_counts<1800].index)\n",
    "\n",
    "# Replace in dataframe\n",
    "for cls in replace_class:\n",
    "    application_df.CLASSIFICATION = application_df.CLASSIFICATION.replace(cls,\"Other\")\n",
    "    \n",
    "# Check to make sure binning was successful\n",
    "#application_df.CLASSIFICATION.value_counts()\n",
    "\n",
    "\n",
    "\n",
    "# 7. Generate our categorical variable lists\n",
    "application_cat = application_df.dtypes[application_df.dtypes == \"object\"].index.tolist()\n",
    "application_cat"
   ]
  },
  {
   "cell_type": "code",
   "execution_count": 17,
   "id": "63c8a3c5",
   "metadata": {},
   "outputs": [
    {
     "name": "stderr",
     "output_type": "stream",
     "text": [
      "C:\\ProgramData\\Anaconda3\\envs\\mlenv\\lib\\site-packages\\ipykernel_launcher.py:13: FutureWarning: In a future version of pandas all arguments of DataFrame.drop except for the argument 'labels' will be keyword-only\n",
      "  del sys.path[0]\n",
      "C:\\ProgramData\\Anaconda3\\envs\\mlenv\\lib\\site-packages\\ipykernel_launcher.py:20: FutureWarning: In a future version of pandas all arguments of DataFrame.drop except for the argument 'labels' will be keyword-only\n"
     ]
    }
   ],
   "source": [
    "# 8. Create a OneHotEncoder instance\n",
    "enc = OneHotEncoder(sparse=False)\n",
    "\n",
    "# Fit and transform the OneHotEncoder using the categorical variable list\n",
    "encode_df = pd.DataFrame(enc.fit_transform(application_df[application_cat]))\n",
    "\n",
    "# Add the encoded variable names to the dataframe\n",
    "encode_df.columns = enc.get_feature_names_out(application_cat)\n",
    "#encode_df.head()\n",
    "\n",
    "# 9. Merge one-hot encoded features and drop the originals\n",
    "application_df = application_df.merge(encode_df, left_index=True, right_index=True)\n",
    "application_df = application_df.drop(application_cat,1)\n",
    "#application_df.head()\n",
    "\n",
    "\n",
    "\n",
    "# 10. Split our preprocessed data into our features and target arrays\n",
    "y = application_df[\"IS_SUCCESSFUL\"].values\n",
    "X = application_df.drop(\"IS_SUCCESSFUL\",1).values\n",
    "\n",
    "# 11. Split the preprocessed data into a training and testing dataset\n",
    "X_train, X_test, y_train, y_test = train_test_split(X, y, random_state=78)\n",
    "\n",
    "\n",
    "\n",
    "# 12. \n",
    "# Create a StandardScaler instances\n",
    "scaler = StandardScaler()\n",
    "\n",
    "# Fit the StandardScaler\n",
    "X_scaler = scaler.fit(X_train)\n",
    "\n",
    "# Scale the data\n",
    "X_train_scaled = X_scaler.transform(X_train)\n",
    "X_test_scaled = X_scaler.transform(X_test)\n",
    "\n",
    "\n"
   ]
  },
  {
   "cell_type": "code",
   "execution_count": 18,
   "id": "56af3d56",
   "metadata": {},
   "outputs": [
    {
     "name": "stdout",
     "output_type": "stream",
     "text": [
      "Model: \"sequential_1\"\n",
      "_________________________________________________________________\n",
      " Layer (type)                Output Shape              Param #   \n",
      "=================================================================\n",
      " dense_3 (Dense)             (None, 80)                3360      \n",
      "                                                                 \n",
      " dense_4 (Dense)             (None, 30)                2430      \n",
      "                                                                 \n",
      " dense_5 (Dense)             (None, 1)                 31        \n",
      "                                                                 \n",
      "=================================================================\n",
      "Total params: 5,821\n",
      "Trainable params: 5,821\n",
      "Non-trainable params: 0\n",
      "_________________________________________________________________\n"
     ]
    }
   ],
   "source": [
    "# Deliverable 2 Work\n",
    "#     Compile, Train, and Evaluate the Model\n",
    "#\n",
    "# 2. Define the model - deep neural net, i.e., the number of input features and hidden nodes for each layer.\n",
    "#        9 columns(ORIG)*3 27\n",
    "number_input_features = len(X_train[0])   #encoded columns 43  *  2 = 86\n",
    "hidden_nodes_layer1 = 80\n",
    "hidden_nodes_layer2 = 30\n",
    "\n",
    "nn = tf.keras.models.Sequential()\n",
    "\n",
    "# 3. First hidden layer\n",
    "nn.add(\n",
    "    tf.keras.layers.Dense(units=hidden_nodes_layer1, input_dim=number_input_features, activation=\"relu\")\n",
    ")\n",
    "\n",
    "# 4. Second hidden layer\n",
    "nn.add(\n",
    "    tf.keras.layers.Dense(units=hidden_nodes_layer2, activation=\"relu\")\n",
    ")\n",
    "\n",
    "# 5. Output layer\n",
    "nn.add(\n",
    "    tf.keras.layers.Dense(units=1, activation=\"sigmoid\")\n",
    ")\n",
    "\n",
    "\n",
    "\n",
    "# 6. Check the structure of the model\n",
    "nn.summary()\n",
    "\n"
   ]
  },
  {
   "cell_type": "code",
   "execution_count": 19,
   "id": "a66cb31f",
   "metadata": {},
   "outputs": [
    {
     "name": "stdout",
     "output_type": "stream",
     "text": [
      "WARNING:tensorflow:`period` argument is deprecated. Please use `save_freq` to specify the frequency in number of batches seen.\n",
      "Epoch 1/100\n",
      "804/804 [==============================] - 1s 876us/step - loss: 38536.6914 - accuracy: 0.4874\n",
      "Epoch 2/100\n",
      "804/804 [==============================] - 1s 886us/step - loss: 33882.9102 - accuracy: 0.5090\n",
      "Epoch 3/100\n",
      "804/804 [==============================] - 1s 869us/step - loss: 19932.1094 - accuracy: 0.5022\n",
      "Epoch 4/100\n",
      "804/804 [==============================] - 1s 885us/step - loss: 10296.0557 - accuracy: 0.5007\n",
      "Epoch 5/100\n",
      "745/804 [==========================>...] - ETA: 0s - loss: 6178.8120 - accuracy: 0.5060\n",
      "Epoch 5: saving model to checkpoints\\D3-Att2_weights.05.hdf5\n",
      "804/804 [==============================] - 1s 899us/step - loss: 5804.3052 - accuracy: 0.5057\n",
      "Epoch 6/100\n",
      "804/804 [==============================] - 1s 862us/step - loss: 9246.6387 - accuracy: 0.5096\n",
      "Epoch 7/100\n",
      "804/804 [==============================] - 1s 870us/step - loss: 4776.0376 - accuracy: 0.5037\n",
      "Epoch 8/100\n",
      "804/804 [==============================] - 1s 868us/step - loss: 1692.3356 - accuracy: 0.5321\n",
      "Epoch 9/100\n",
      "804/804 [==============================] - 1s 856us/step - loss: 0.6944 - accuracy: 0.5321\n",
      "Epoch 10/100\n",
      "801/804 [============================>.] - ETA: 0s - loss: 0.6918 - accuracy: 0.5321\n",
      "Epoch 10: saving model to checkpoints\\D3-Att2_weights.10.hdf5\n",
      "804/804 [==============================] - 1s 1ms/step - loss: 0.6918 - accuracy: 0.5321\n",
      "Epoch 11/100\n",
      "804/804 [==============================] - 1s 821us/step - loss: 0.6912 - accuracy: 0.5321\n",
      "Epoch 12/100\n",
      "804/804 [==============================] - 1s 860us/step - loss: 0.6911 - accuracy: 0.5321\n",
      "Epoch 13/100\n",
      "804/804 [==============================] - 1s 885us/step - loss: 0.6911 - accuracy: 0.5321\n",
      "Epoch 14/100\n",
      "804/804 [==============================] - 1s 876us/step - loss: 0.6911 - accuracy: 0.5321\n",
      "Epoch 15/100\n",
      "762/804 [===========================>..] - ETA: 0s - loss: 0.6910 - accuracy: 0.5328\n",
      "Epoch 15: saving model to checkpoints\\D3-Att2_weights.15.hdf5\n",
      "804/804 [==============================] - 1s 883us/step - loss: 0.6911 - accuracy: 0.5321\n",
      "Epoch 16/100\n",
      "804/804 [==============================] - 1s 863us/step - loss: 0.6911 - accuracy: 0.5321\n",
      "Epoch 17/100\n",
      "804/804 [==============================] - 1s 863us/step - loss: 0.6911 - accuracy: 0.5321\n",
      "Epoch 18/100\n",
      "804/804 [==============================] - 1s 855us/step - loss: 0.6911 - accuracy: 0.5321\n",
      "Epoch 19/100\n",
      "804/804 [==============================] - 1s 870us/step - loss: 0.6911 - accuracy: 0.5321\n",
      "Epoch 20/100\n",
      "802/804 [============================>.] - ETA: 0s - loss: 0.6911 - accuracy: 0.5320\n",
      "Epoch 20: saving model to checkpoints\\D3-Att2_weights.20.hdf5\n",
      "804/804 [==============================] - 1s 901us/step - loss: 0.6911 - accuracy: 0.5321\n",
      "Epoch 21/100\n",
      "804/804 [==============================] - 1s 841us/step - loss: 0.6911 - accuracy: 0.5321\n",
      "Epoch 22/100\n",
      "804/804 [==============================] - 1s 864us/step - loss: 0.6911 - accuracy: 0.5321\n",
      "Epoch 23/100\n",
      "804/804 [==============================] - 1s 860us/step - loss: 0.6911 - accuracy: 0.5321\n",
      "Epoch 24/100\n",
      "804/804 [==============================] - 1s 878us/step - loss: 0.6911 - accuracy: 0.5321\n",
      "Epoch 25/100\n",
      "779/804 [============================>.] - ETA: 0s - loss: 0.6911 - accuracy: 0.5324\n",
      "Epoch 25: saving model to checkpoints\\D3-Att2_weights.25.hdf5\n",
      "804/804 [==============================] - 1s 863us/step - loss: 0.6911 - accuracy: 0.5321\n",
      "Epoch 26/100\n",
      "804/804 [==============================] - 1s 844us/step - loss: 0.6911 - accuracy: 0.5321\n",
      "Epoch 27/100\n",
      "804/804 [==============================] - 1s 838us/step - loss: 0.6911 - accuracy: 0.5321\n",
      "Epoch 28/100\n",
      "804/804 [==============================] - 1s 836us/step - loss: 0.6911 - accuracy: 0.5321\n",
      "Epoch 29/100\n",
      "804/804 [==============================] - 1s 844us/step - loss: 0.6911 - accuracy: 0.5321\n",
      "Epoch 30/100\n",
      "768/804 [===========================>..] - ETA: 0s - loss: 0.6911 - accuracy: 0.5323\n",
      "Epoch 30: saving model to checkpoints\\D3-Att2_weights.30.hdf5\n",
      "804/804 [==============================] - 1s 876us/step - loss: 0.6911 - accuracy: 0.5321\n",
      "Epoch 31/100\n",
      "804/804 [==============================] - 1s 855us/step - loss: 0.6911 - accuracy: 0.5321\n",
      "Epoch 32/100\n",
      "804/804 [==============================] - 1s 841us/step - loss: 0.6911 - accuracy: 0.5321\n",
      "Epoch 33/100\n",
      "804/804 [==============================] - 1s 984us/step - loss: 0.6911 - accuracy: 0.5321\n",
      "Epoch 34/100\n",
      "804/804 [==============================] - 1s 878us/step - loss: 0.6911 - accuracy: 0.5321\n",
      "Epoch 35/100\n",
      "758/804 [===========================>..] - ETA: 0s - loss: 0.6911 - accuracy: 0.5324\n",
      "Epoch 35: saving model to checkpoints\\D3-Att2_weights.35.hdf5\n",
      "804/804 [==============================] - 1s 887us/step - loss: 0.6911 - accuracy: 0.5321\n",
      "Epoch 36/100\n",
      "804/804 [==============================] - 1s 854us/step - loss: 0.6911 - accuracy: 0.5321\n",
      "Epoch 37/100\n",
      "804/804 [==============================] - 1s 843us/step - loss: 0.6911 - accuracy: 0.5321\n",
      "Epoch 38/100\n",
      "804/804 [==============================] - 1s 841us/step - loss: 0.6911 - accuracy: 0.5321\n",
      "Epoch 39/100\n",
      "804/804 [==============================] - 1s 853us/step - loss: 0.6911 - accuracy: 0.5321\n",
      "Epoch 40/100\n",
      "776/804 [===========================>..] - ETA: 0s - loss: 0.6911 - accuracy: 0.5325\n",
      "Epoch 40: saving model to checkpoints\\D3-Att2_weights.40.hdf5\n",
      "804/804 [==============================] - 1s 866us/step - loss: 0.6911 - accuracy: 0.5321\n",
      "Epoch 41/100\n",
      "804/804 [==============================] - 1s 859us/step - loss: 0.6911 - accuracy: 0.5321\n",
      "Epoch 42/100\n",
      "804/804 [==============================] - 1s 869us/step - loss: 0.6911 - accuracy: 0.5321\n",
      "Epoch 43/100\n",
      "804/804 [==============================] - 1s 848us/step - loss: 0.6911 - accuracy: 0.5321\n",
      "Epoch 44/100\n",
      "804/804 [==============================] - 1s 836us/step - loss: 0.6911 - accuracy: 0.5321\n",
      "Epoch 45/100\n",
      "765/804 [===========================>..] - ETA: 0s - loss: 0.6911 - accuracy: 0.5319\n",
      "Epoch 45: saving model to checkpoints\\D3-Att2_weights.45.hdf5\n",
      "804/804 [==============================] - 1s 876us/step - loss: 0.6911 - accuracy: 0.5321\n",
      "Epoch 46/100\n",
      "804/804 [==============================] - 1s 885us/step - loss: 0.6911 - accuracy: 0.5321\n",
      "Epoch 47/100\n",
      "804/804 [==============================] - 1s 841us/step - loss: 0.6911 - accuracy: 0.5321\n",
      "Epoch 48/100\n",
      "804/804 [==============================] - 1s 872us/step - loss: 0.6911 - accuracy: 0.5321\n",
      "Epoch 49/100\n",
      "804/804 [==============================] - 1s 833us/step - loss: 0.6911 - accuracy: 0.5321\n",
      "Epoch 50/100\n",
      "801/804 [============================>.] - ETA: 0s - loss: 0.6911 - accuracy: 0.5322\n",
      "Epoch 50: saving model to checkpoints\\D3-Att2_weights.50.hdf5\n",
      "804/804 [==============================] - 1s 903us/step - loss: 0.6911 - accuracy: 0.5321\n",
      "Epoch 51/100\n",
      "804/804 [==============================] - 1s 870us/step - loss: 0.6911 - accuracy: 0.5321\n",
      "Epoch 52/100\n",
      "804/804 [==============================] - 1s 863us/step - loss: 0.6911 - accuracy: 0.5321\n",
      "Epoch 53/100\n",
      "804/804 [==============================] - 1s 847us/step - loss: 0.6911 - accuracy: 0.5321\n",
      "Epoch 54/100\n",
      "804/804 [==============================] - 1s 839us/step - loss: 0.6911 - accuracy: 0.5321\n",
      "Epoch 55/100\n",
      "787/804 [============================>.] - ETA: 0s - loss: 0.6911 - accuracy: 0.5324\n",
      "Epoch 55: saving model to checkpoints\\D3-Att2_weights.55.hdf5\n",
      "804/804 [==============================] - 1s 864us/step - loss: 0.6911 - accuracy: 0.5321\n",
      "Epoch 56/100\n",
      "804/804 [==============================] - 1s 1ms/step - loss: 0.6911 - accuracy: 0.5321\n",
      "Epoch 57/100\n",
      "804/804 [==============================] - 1s 869us/step - loss: 0.6911 - accuracy: 0.5321\n",
      "Epoch 58/100\n",
      "804/804 [==============================] - 1s 840us/step - loss: 0.6911 - accuracy: 0.5321\n",
      "Epoch 59/100\n",
      "804/804 [==============================] - 1s 836us/step - loss: 0.6911 - accuracy: 0.5321\n",
      "Epoch 60/100\n",
      "752/804 [===========================>..] - ETA: 0s - loss: 0.6911 - accuracy: 0.5324\n",
      "Epoch 60: saving model to checkpoints\\D3-Att2_weights.60.hdf5\n",
      "804/804 [==============================] - 1s 891us/step - loss: 0.6911 - accuracy: 0.5321\n",
      "Epoch 61/100\n"
     ]
    },
    {
     "name": "stdout",
     "output_type": "stream",
     "text": [
      "804/804 [==============================] - 1s 839us/step - loss: 0.6911 - accuracy: 0.5321\n",
      "Epoch 62/100\n",
      "804/804 [==============================] - 1s 933us/step - loss: 0.6911 - accuracy: 0.5321\n",
      "Epoch 63/100\n",
      "804/804 [==============================] - 1s 874us/step - loss: 0.6911 - accuracy: 0.5321\n",
      "Epoch 64/100\n",
      "804/804 [==============================] - 1s 840us/step - loss: 0.6911 - accuracy: 0.5321\n",
      "Epoch 65/100\n",
      "804/804 [==============================] - ETA: 0s - loss: 0.6911 - accuracy: 0.5321\n",
      "Epoch 65: saving model to checkpoints\\D3-Att2_weights.65.hdf5\n",
      "804/804 [==============================] - 1s 900us/step - loss: 0.6911 - accuracy: 0.5321\n",
      "Epoch 66/100\n",
      "804/804 [==============================] - 1s 847us/step - loss: 0.6911 - accuracy: 0.5321\n",
      "Epoch 67/100\n",
      "804/804 [==============================] - 1s 886us/step - loss: 0.6911 - accuracy: 0.5321\n",
      "Epoch 68/100\n",
      "804/804 [==============================] - 1s 864us/step - loss: 0.6911 - accuracy: 0.5321\n",
      "Epoch 69/100\n",
      "804/804 [==============================] - 1s 846us/step - loss: 0.6911 - accuracy: 0.5321\n",
      "Epoch 70/100\n",
      "774/804 [===========================>..] - ETA: 0s - loss: 0.6912 - accuracy: 0.5310\n",
      "Epoch 70: saving model to checkpoints\\D3-Att2_weights.70.hdf5\n",
      "804/804 [==============================] - 1s 868us/step - loss: 0.6911 - accuracy: 0.5321\n",
      "Epoch 71/100\n",
      "804/804 [==============================] - 1s 873us/step - loss: 0.6911 - accuracy: 0.5321\n",
      "Epoch 72/100\n",
      "804/804 [==============================] - 1s 900us/step - loss: 0.6911 - accuracy: 0.5321\n",
      "Epoch 73/100\n",
      "804/804 [==============================] - 1s 863us/step - loss: 0.6911 - accuracy: 0.5321\n",
      "Epoch 74/100\n",
      "804/804 [==============================] - 1s 892us/step - loss: 0.6911 - accuracy: 0.5321\n",
      "Epoch 75/100\n",
      "765/804 [===========================>..] - ETA: 0s - loss: 0.6912 - accuracy: 0.5311\n",
      "Epoch 75: saving model to checkpoints\\D3-Att2_weights.75.hdf5\n",
      "804/804 [==============================] - 1s 880us/step - loss: 0.6911 - accuracy: 0.5321\n",
      "Epoch 76/100\n",
      "804/804 [==============================] - 1s 825us/step - loss: 0.6911 - accuracy: 0.5321\n",
      "Epoch 77/100\n",
      "804/804 [==============================] - 1s 880us/step - loss: 0.6911 - accuracy: 0.5321\n",
      "Epoch 78/100\n",
      "804/804 [==============================] - 1s 950us/step - loss: 0.6911 - accuracy: 0.5321\n",
      "Epoch 79/100\n",
      "804/804 [==============================] - 1s 863us/step - loss: 0.6911 - accuracy: 0.5321\n",
      "Epoch 80/100\n",
      "756/804 [===========================>..] - ETA: 0s - loss: 0.6911 - accuracy: 0.5324\n",
      "Epoch 80: saving model to checkpoints\\D3-Att2_weights.80.hdf5\n",
      "804/804 [==============================] - 1s 884us/step - loss: 0.6911 - accuracy: 0.5321\n",
      "Epoch 81/100\n",
      "804/804 [==============================] - 1s 864us/step - loss: 0.6911 - accuracy: 0.5321\n",
      "Epoch 82/100\n",
      "804/804 [==============================] - 1s 874us/step - loss: 0.6911 - accuracy: 0.5321\n",
      "Epoch 83/100\n",
      "804/804 [==============================] - 1s 872us/step - loss: 0.6911 - accuracy: 0.5321\n",
      "Epoch 84/100\n",
      "804/804 [==============================] - 1s 883us/step - loss: 0.6911 - accuracy: 0.5321\n",
      "Epoch 85/100\n",
      "759/804 [===========================>..] - ETA: 0s - loss: 0.6909 - accuracy: 0.5336\n",
      "Epoch 85: saving model to checkpoints\\D3-Att2_weights.85.hdf5\n",
      "804/804 [==============================] - 1s 884us/step - loss: 0.6911 - accuracy: 0.5321\n",
      "Epoch 86/100\n",
      "804/804 [==============================] - 1s 876us/step - loss: 0.6911 - accuracy: 0.5321\n",
      "Epoch 87/100\n",
      "804/804 [==============================] - 1s 891us/step - loss: 0.6911 - accuracy: 0.5321\n",
      "Epoch 88/100\n",
      "804/804 [==============================] - 1s 877us/step - loss: 0.6911 - accuracy: 0.5321\n",
      "Epoch 89/100\n",
      "804/804 [==============================] - 1s 874us/step - loss: 0.6911 - accuracy: 0.5321\n",
      "Epoch 90/100\n",
      "798/804 [============================>.] - ETA: 0s - loss: 0.6911 - accuracy: 0.5320\n",
      "Epoch 90: saving model to checkpoints\\D3-Att2_weights.90.hdf5\n",
      "804/804 [==============================] - 1s 907us/step - loss: 0.6911 - accuracy: 0.5321\n",
      "Epoch 91/100\n",
      "804/804 [==============================] - 1s 896us/step - loss: 0.6911 - accuracy: 0.5321\n",
      "Epoch 92/100\n",
      "804/804 [==============================] - 1s 859us/step - loss: 0.6911 - accuracy: 0.5321\n",
      "Epoch 93/100\n",
      "804/804 [==============================] - 1s 891us/step - loss: 0.6911 - accuracy: 0.5321\n",
      "Epoch 94/100\n",
      "804/804 [==============================] - 1s 873us/step - loss: 0.6911 - accuracy: 0.5321\n",
      "Epoch 95/100\n",
      "753/804 [===========================>..] - ETA: 0s - loss: 0.6912 - accuracy: 0.5316\n",
      "Epoch 95: saving model to checkpoints\\D3-Att2_weights.95.hdf5\n",
      "804/804 [==============================] - 1s 895us/step - loss: 0.6911 - accuracy: 0.5321\n",
      "Epoch 96/100\n",
      "804/804 [==============================] - 1s 913us/step - loss: 0.6911 - accuracy: 0.5321\n",
      "Epoch 97/100\n",
      "804/804 [==============================] - 1s 894us/step - loss: 0.6911 - accuracy: 0.5321\n",
      "Epoch 98/100\n",
      "804/804 [==============================] - 1s 865us/step - loss: 0.6911 - accuracy: 0.5321\n",
      "Epoch 99/100\n",
      "804/804 [==============================] - 1s 875us/step - loss: 0.6911 - accuracy: 0.5321\n",
      "Epoch 100/100\n",
      "790/804 [============================>.] - ETA: 0s - loss: 0.6911 - accuracy: 0.5325\n",
      "Epoch 100: saving model to checkpoints\\D3-Att2_weights.100.hdf5\n",
      "804/804 [==============================] - 1s 923us/step - loss: 0.6911 - accuracy: 0.5321\n"
     ]
    }
   ],
   "source": [
    "# Import checkpoint dependencies\n",
    "import os\n",
    "from tensorflow.keras.callbacks import ModelCheckpoint\n",
    "\n",
    "# Define the checkpoint path and filenames\n",
    "os.makedirs(\"checkpoints/\",exist_ok=True)\n",
    "checkpoint_path = \"checkpoints/D3-Att2_weights.{epoch:02d}.hdf5\"\n",
    "\n",
    "# 7a. Compile the model\n",
    "nn.compile(loss=\"binary_crossentropy\", optimizer=\"adam\", metrics=[\"accuracy\"])\n",
    "\n",
    "# 8.\n",
    "# Create a callback that saves the model's weights every epoch\n",
    "cp_callback = ModelCheckpoint(\n",
    "    filepath=checkpoint_path,\n",
    "    verbose=1,\n",
    "    save_weights_only=False,\n",
    "    save_freq='epoch',\n",
    "    period=5  #set to 5 instead of default of 1\n",
    ")\n",
    "\n",
    "# 7b. Train the model\n",
    "fit_model = nn.fit(X_train,y_train,epochs=100,callbacks=[cp_callback])"
   ]
  },
  {
   "cell_type": "code",
   "execution_count": 20,
   "id": "801c9ce6",
   "metadata": {},
   "outputs": [
    {
     "data": {
      "text/plain": [
       "<AxesSubplot:>"
      ]
     },
     "execution_count": 20,
     "metadata": {},
     "output_type": "execute_result"
    },
    {
     "data": {
      "image/png": "[encoded data removed]",
      "text/plain": [
       "<Figure size 432x288 with 1 Axes>"
      ]
     },
     "metadata": {
      "needs_background": "light"
     },
     "output_type": "display_data"
    }
   ],
   "source": [
    "#\n",
    "# Extra info, I like visualizations\n",
    "#\n",
    "# Create a DataFrame containing training history\n",
    "history_df = pd.DataFrame(fit_model.history, index=range(1,len(fit_model.history[\"loss\"])+1))\n",
    "\n",
    "# Plot the loss\n",
    "history_df.plot(y=\"loss\")"
   ]
  },
  {
   "cell_type": "code",
   "execution_count": 21,
   "id": "c098ec42",
   "metadata": {},
   "outputs": [
    {
     "data": {
      "text/plain": [
       "<AxesSubplot:>"
      ]
     },
     "execution_count": 21,
     "metadata": {},
     "output_type": "execute_result"
    },
    {
     "data": {
      "image/png": "[encoded data removed]",
      "text/plain": [
       "<Figure size 432x288 with 1 Axes>"
      ]
     },
     "metadata": {
      "needs_background": "light"
     },
     "output_type": "display_data"
    }
   ],
   "source": [
    "#\n",
    "# Extra info, I like visualizations\n",
    "#\n",
    "# Plot the accuracy\n",
    "history_df.plot(y=\"accuracy\")"
   ]
  },
  {
   "cell_type": "code",
   "execution_count": 22,
   "id": "a0a7d824",
   "metadata": {},
   "outputs": [
    {
     "name": "stdout",
     "output_type": "stream",
     "text": [
      "268/268 - 0s - loss: 0.6094 - accuracy: 0.6920 - 235ms/epoch - 876us/step\n",
      "Loss: 0.6094032526016235, Accuracy: 0.6920116543769836\n"
     ]
    }
   ],
   "source": [
    "# 9. Evaluate the model using the test data\n",
    "model_loss, model_accuracy = nn.evaluate(X_test_scaled,y_test,verbose=2)\n",
    "print(f\"Loss: {model_loss}, Accuracy: {model_accuracy}\")"
   ]
  },
  {
   "cell_type": "code",
   "execution_count": 23,
   "id": "d070a359",
   "metadata": {},
   "outputs": [],
   "source": [
    "# 10. Export our model to HDF5 file\n",
    "nn.save(\"D3-Att2_trained_attrition.h5\")"
   ]
  },
  {
   "cell_type": "code",
   "execution_count": null,
   "id": "a27e42f7",
   "metadata": {},
   "outputs": [],
   "source": []
  },
  {
   "cell_type": "code",
   "execution_count": null,
   "id": "40b68750",
   "metadata": {},
   "outputs": [],
   "source": []
  },
  {
   "cell_type": "code",
   "execution_count": 26,
   "id": "d5fc00dc",
   "metadata": {},
   "outputs": [
    {
     "data": {
      "text/plain": [
       "41"
      ]
     },
     "execution_count": 26,
     "metadata": {},
     "output_type": "execute_result"
    }
   ],
   "source": [
    "len(X_train[0])"
   ]
  },
  {
   "cell_type": "code",
   "execution_count": null,
   "id": "00c4aaa9",
   "metadata": {},
   "outputs": [],
   "source": [
    "#Building on attempt two's removal of noisy data, \n",
    "# Attempt 3 - now we add more layers and neurons."
   ]
  },
  {
   "cell_type": "code",
   "execution_count": 30,
   "id": "aae63b5a",
   "metadata": {},
   "outputs": [
    {
     "name": "stdout",
     "output_type": "stream",
     "text": [
      "Model: \"sequential_3\"\n",
      "_________________________________________________________________\n",
      " Layer (type)                Output Shape              Param #   \n",
      "=================================================================\n",
      " dense_10 (Dense)            (None, 123)               5166      \n",
      "                                                                 \n",
      " dense_11 (Dense)            (None, 82)                10168     \n",
      "                                                                 \n",
      " dense_12 (Dense)            (None, 12)                996       \n",
      "                                                                 \n",
      " dense_13 (Dense)            (None, 1)                 13        \n",
      "                                                                 \n",
      "=================================================================\n",
      "Total params: 16,343\n",
      "Trainable params: 16,343\n",
      "Non-trainable params: 0\n",
      "_________________________________________________________________\n"
     ]
    }
   ],
   "source": [
    "# Deliverable 2 Work\n",
    "#     Compile, Train, and Evaluate the Model\n",
    "#\n",
    "# 2. Define the model - deep neural net, i.e., the number of input features and hidden nodes for each layer.\n",
    "#        9 columns(ORIG)*3 27\n",
    "number_input_features = len(X_train[0])   #encoded columns 41  *  2 = 82\n",
    "hidden_nodes_layer1 = 123\n",
    "hidden_nodes_layer2 = 82\n",
    "hidden_nodes_layer3 = 12\n",
    "\n",
    "nn = tf.keras.models.Sequential()\n",
    "\n",
    "# 3. First hidden layer\n",
    "nn.add(\n",
    "    tf.keras.layers.Dense(units=hidden_nodes_layer1, input_dim=number_input_features, activation=\"relu\")\n",
    ")\n",
    "\n",
    "# 4. Second hidden layer\n",
    "nn.add(\n",
    "    tf.keras.layers.Dense(units=hidden_nodes_layer2, activation=\"relu\")\n",
    ")\n",
    "\n",
    "nn.add(  # Adding a new third layer\n",
    "    tf.keras.layers.Dense(units=hidden_nodes_layer3, activation=\"relu\")\n",
    ")\n",
    "\n",
    "# 5. Output layer\n",
    "nn.add(\n",
    "    tf.keras.layers.Dense(units=1, activation=\"sigmoid\")\n",
    ")\n",
    "\n",
    "\n",
    "\n",
    "# 6. Check the structure of the model\n",
    "nn.summary()\n",
    "\n"
   ]
  },
  {
   "cell_type": "code",
   "execution_count": 31,
   "id": "0c64f7c3",
   "metadata": {},
   "outputs": [
    {
     "name": "stdout",
     "output_type": "stream",
     "text": [
      "WARNING:tensorflow:`period` argument is deprecated. Please use `save_freq` to specify the frequency in number of batches seen.\n",
      "Epoch 1/25\n",
      "804/804 [==============================] - 1s 1ms/step - loss: 1101.5570 - accuracy: 0.5286\n",
      "Epoch 2/25\n",
      "804/804 [==============================] - 1s 1ms/step - loss: 0.6912 - accuracy: 0.5321\n",
      "Epoch 3/25\n",
      "804/804 [==============================] - 1s 973us/step - loss: 0.6911 - accuracy: 0.5321\n",
      "Epoch 4/25\n",
      "804/804 [==============================] - 1s 937us/step - loss: 0.6911 - accuracy: 0.5321\n",
      "Epoch 5/25\n",
      "778/804 [============================>.] - ETA: 0s - loss: 0.6912 - accuracy: 0.5315\n",
      "Epoch 5: saving model to checkpoints\\D3-Att3_weights.05.hdf5\n",
      "804/804 [==============================] - 1s 1ms/step - loss: 0.6911 - accuracy: 0.5321\n",
      "Epoch 6/25\n",
      "804/804 [==============================] - 1s 966us/step - loss: 0.6911 - accuracy: 0.5321\n",
      "Epoch 7/25\n",
      "804/804 [==============================] - 1s 975us/step - loss: 0.6911 - accuracy: 0.5321\n",
      "Epoch 8/25\n",
      "804/804 [==============================] - 1s 1ms/step - loss: 0.6911 - accuracy: 0.5321\n",
      "Epoch 9/25\n",
      "804/804 [==============================] - 1s 991us/step - loss: 0.6911 - accuracy: 0.5321\n",
      "Epoch 10/25\n",
      "760/804 [===========================>..] - ETA: 0s - loss: 0.6911 - accuracy: 0.5321\n",
      "Epoch 10: saving model to checkpoints\\D3-Att3_weights.10.hdf5\n",
      "804/804 [==============================] - 1s 1ms/step - loss: 0.6911 - accuracy: 0.5321\n",
      "Epoch 11/25\n",
      "804/804 [==============================] - 1s 984us/step - loss: 0.6911 - accuracy: 0.5321\n",
      "Epoch 12/25\n",
      "804/804 [==============================] - 1s 1ms/step - loss: 0.6911 - accuracy: 0.5321\n",
      "Epoch 13/25\n",
      "804/804 [==============================] - 1s 951us/step - loss: 0.6911 - accuracy: 0.5321\n",
      "Epoch 14/25\n",
      "804/804 [==============================] - 1s 983us/step - loss: 0.6911 - accuracy: 0.5321\n",
      "Epoch 15/25\n",
      "766/804 [===========================>..] - ETA: 0s - loss: 0.6910 - accuracy: 0.5331\n",
      "Epoch 15: saving model to checkpoints\\D3-Att3_weights.15.hdf5\n",
      "804/804 [==============================] - 1s 955us/step - loss: 0.6911 - accuracy: 0.5321\n",
      "Epoch 16/25\n",
      "804/804 [==============================] - 1s 969us/step - loss: 0.6911 - accuracy: 0.5321\n",
      "Epoch 17/25\n",
      "804/804 [==============================] - 1s 965us/step - loss: 0.6911 - accuracy: 0.5321\n",
      "Epoch 18/25\n",
      "804/804 [==============================] - 1s 950us/step - loss: 0.6911 - accuracy: 0.5321\n",
      "Epoch 19/25\n",
      "804/804 [==============================] - 1s 969us/step - loss: 0.6911 - accuracy: 0.5321\n",
      "Epoch 20/25\n",
      "754/804 [===========================>..] - ETA: 0s - loss: 0.6913 - accuracy: 0.5308\n",
      "Epoch 20: saving model to checkpoints\\D3-Att3_weights.20.hdf5\n",
      "804/804 [==============================] - 1s 964us/step - loss: 0.6911 - accuracy: 0.5321\n",
      "Epoch 21/25\n",
      "804/804 [==============================] - 1s 954us/step - loss: 0.6911 - accuracy: 0.5321\n",
      "Epoch 22/25\n",
      "804/804 [==============================] - 1s 1ms/step - loss: 0.6911 - accuracy: 0.5321\n",
      "Epoch 23/25\n",
      "804/804 [==============================] - 1s 1ms/step - loss: 0.6911 - accuracy: 0.5321\n",
      "Epoch 24/25\n",
      "804/804 [==============================] - 1s 975us/step - loss: 0.6911 - accuracy: 0.5321\n",
      "Epoch 25/25\n",
      "804/804 [==============================] - ETA: 0s - loss: 0.6911 - accuracy: 0.5321\n",
      "Epoch 25: saving model to checkpoints\\D3-Att3_weights.25.hdf5\n",
      "804/804 [==============================] - 1s 972us/step - loss: 0.6911 - accuracy: 0.5321\n"
     ]
    }
   ],
   "source": [
    "# Import checkpoint dependencies\n",
    "import os\n",
    "from tensorflow.keras.callbacks import ModelCheckpoint\n",
    "\n",
    "# Define the checkpoint path and filenames\n",
    "os.makedirs(\"checkpoints/\",exist_ok=True)\n",
    "checkpoint_path = \"checkpoints/D3-Att3_weights.{epoch:02d}.hdf5\"\n",
    "\n",
    "# 7a. Compile the model\n",
    "nn.compile(loss=\"binary_crossentropy\", optimizer=\"adam\", metrics=[\"accuracy\"])\n",
    "\n",
    "# 8.\n",
    "# Create a callback that saves the model's weights every epoch\n",
    "cp_callback = ModelCheckpoint(\n",
    "    filepath=checkpoint_path,\n",
    "    verbose=1,\n",
    "    save_weights_only=False,\n",
    "    save_freq='epoch',\n",
    "    period=5  #set to 5 instead of default of 1\n",
    ")\n",
    "\n",
    "# 7b. Train the model\n",
    "# we have a robust model so I am dropping the epochs to 25\n",
    "fit_model = nn.fit(X_train,y_train,epochs=25,callbacks=[cp_callback])"
   ]
  },
  {
   "cell_type": "code",
   "execution_count": 32,
   "id": "f269c5f6",
   "metadata": {},
   "outputs": [
    {
     "data": {
      "text/plain": [
       "<AxesSubplot:>"
      ]
     },
     "execution_count": 32,
     "metadata": {},
     "output_type": "execute_result"
    },
    {
     "data": {
      "image/png": "[encoded data removed]",
      "text/plain": [
       "<Figure size 432x288 with 1 Axes>"
      ]
     },
     "metadata": {
      "needs_background": "light"
     },
     "output_type": "display_data"
    }
   ],
   "source": [
    "#\n",
    "# Extra info, I like visualizations\n",
    "#\n",
    "# Create a DataFrame containing training history\n",
    "history_df = pd.DataFrame(fit_model.history, index=range(1,len(fit_model.history[\"loss\"])+1))\n",
    "\n",
    "# Plot the loss\n",
    "history_df.plot(y=\"loss\")"
   ]
  },
  {
   "cell_type": "code",
   "execution_count": 33,
   "id": "c746c614",
   "metadata": {},
   "outputs": [
    {
     "data": {
      "text/plain": [
       "<AxesSubplot:>"
      ]
     },
     "execution_count": 33,
     "metadata": {},
     "output_type": "execute_result"
    },
    {
     "data": {
      "image/png": "[encoded data removed]",
      "text/plain": [
       "<Figure size 432x288 with 1 Axes>"
      ]
     },
     "metadata": {
      "needs_background": "light"
     },
     "output_type": "display_data"
    }
   ],
   "source": [
    "#\n",
    "# Extra info, I like visualizations\n",
    "#\n",
    "# Plot the accuracy\n",
    "history_df.plot(y=\"accuracy\")"
   ]
  },
  {
   "cell_type": "code",
   "execution_count": 34,
   "id": "3e1363c3",
   "metadata": {},
   "outputs": [
    {
     "name": "stdout",
     "output_type": "stream",
     "text": [
      "268/268 - 0s - loss: 0.6981 - accuracy: 0.5237 - 228ms/epoch - 851us/step\n",
      "Loss: 0.6980611681938171, Accuracy: 0.5237317681312561\n"
     ]
    }
   ],
   "source": [
    "# 9. Evaluate the model using the test data\n",
    "model_loss, model_accuracy = nn.evaluate(X_test_scaled,y_test,verbose=2)\n",
    "print(f\"Loss: {model_loss}, Accuracy: {model_accuracy}\")"
   ]
  },
  {
   "cell_type": "code",
   "execution_count": 35,
   "id": "e7fac55e",
   "metadata": {},
   "outputs": [],
   "source": [
    "# 10. Export our model to HDF5 file\n",
    "nn.save(\"D3-Att3_trained_attrition.h5\")"
   ]
  },
  {
   "cell_type": "code",
   "execution_count": null,
   "id": "0b9fbc2a",
   "metadata": {},
   "outputs": [],
   "source": []
  }
 ],
 "metadata": {
  "kernelspec": {
   "display_name": "mlenv",
   "language": "python",
   "name": "mlenv"
  },
  "language_info": {
   "codemirror_mode": {
    "name": "ipython",
    "version": 3
   },
   "file_extension": ".py",
   "mimetype": "text/x-python",
   "name": "python",
   "nbconvert_exporter": "python",
   "pygments_lexer": "ipython3",
   "version": "3.7.11"
  }
 },
 "nbformat": 4,
 "nbformat_minor": 5
}
